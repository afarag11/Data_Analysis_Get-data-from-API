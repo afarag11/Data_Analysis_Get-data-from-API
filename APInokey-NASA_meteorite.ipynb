{
 "cells": [
  {
   "cell_type": "code",
   "execution_count": null,
   "metadata": {},
   "outputs": [],
   "source": [
    "#Task: Use the URL from NASA's Open Data Portal API to request data and bring it in as JSON. Then extract the following features from that data to create a dataframe"
   ]
  },
  {
   "cell_type": "code",
   "execution_count": null,
   "metadata": {
    "collapsed": true
   },
   "outputs": [],
   "source": [
    "import requests\n",
    "import json\n",
    "import pandas as pd"
   ]
  },
  {
   "cell_type": "code",
   "execution_count": null,
   "metadata": {
    "collapsed": true
   },
   "outputs": [],
   "source": [
    "#this is the URL to NASA's Open Data API for meteorite landings\n",
    "url = \"https://data.nasa.gov/resource/y77d-th95.json\""
   ]
  },
  {
   "cell_type": "code",
   "execution_count": null,
   "metadata": {},
   "outputs": [],
   "source": [
    "#save the website response to a variable\n",
    "resp = requests.get(url)"
   ]
  },
  {
   "cell_type": "code",
   "execution_count": null,
   "metadata": {},
   "outputs": [],
   "source": [
    "#200 means that the connection was successful\n",
    "resp"
   ]
  },
  {
   "cell_type": "code",
   "execution_count": null,
   "metadata": {},
   "outputs": [],
   "source": [
    "#get the string text data from the API\n",
    "resp.text"
   ]
  },
  {
   "cell_type": "code",
   "execution_count": null,
   "metadata": {
    "collapsed": true
   },
   "outputs": [],
   "source": [
    "#save string data to a variable\n",
    "str_data = resp.text"
   ]
  },
  {
   "cell_type": "code",
   "execution_count": null,
   "metadata": {
    "collapsed": true
   },
   "outputs": [],
   "source": [
    "#convert string data into JSON format\n",
    "#save to a variable\n",
    "NASAdata = json.loads(str_data)"
   ]
  },
  {
   "cell_type": "code",
   "execution_count": null,
   "metadata": {},
   "outputs": [],
   "source": [
    "#structure of JSON data\n",
    "NASAdata"
   ]
  },
  {
   "cell_type": "code",
   "execution_count": null,
   "metadata": {},
   "outputs": [],
   "source": [
    "#the whole structure is a list\n",
    "#can iterate through the items\n",
    "type(NASAdata)"
   ]
  },
  {
   "cell_type": "code",
   "execution_count": null,
   "metadata": {},
   "outputs": [],
   "source": [
    "#look at first item in list\n",
    "#has info for a single meteorite\n",
    "NASAdata[0]"
   ]
  },
  {
   "cell_type": "code",
   "execution_count": null,
   "metadata": {},
   "outputs": [],
   "source": [
    "#the key geolocation has a value that is a dictionary\n",
    "#the key coordinates contains the latitude and longitude for the meteorite\n",
    "#index 0 is longitude, index 1 is latitude\n",
    "NASAdata[0]['geolocation']['coordinates'][1]"
   ]
  },
  {
   "cell_type": "code",
   "execution_count": null,
   "metadata": {},
   "outputs": [],
   "source": [
    "NASA_dict = {'fall': [],\n",
    " 'id': [],\n",
    " 'mass': [],\n",
    " 'name':[] ,\n",
    "  'nametype':[],\n",
    " 'recclass': [],\n",
    " 'reclat': [],\n",
    " 'reclong': [],\n",
    " 'year': []\n",
    "}"
   ]
  },
  {
   "cell_type": "code",
   "execution_count": null,
   "metadata": {},
   "outputs": [],
   "source": [
    "#for each meteor (list item, which is a dictionary) in the NASAdata list of meteors\n",
    "for meteor in NASAdata:\n",
    "    \n",
    "    #for each key in the empty NASA_dict\n",
    "    for key in NASA_dict.keys():\n",
    "        \n",
    "        try:\n",
    "            #see if the key exists for this meteor\n",
    "            #add the value to the list in the dictionary for this key\n",
    "            NASA_dict[key].append(meteor[key])\n",
    "            \n",
    "        except:\n",
    "            #add a null value placeholder to the list in the dictionary\n",
    "            #this will be a null value in the final dataframe\n",
    "            NASA_dict[key] = None"
   ]
  },
  {
   "cell_type": "code",
   "execution_count": null,
   "metadata": {},
   "outputs": [],
   "source": [
    "#verify first 5 values in the 'name' key\n",
    "NASA_dict['name'][:5]"
   ]
  },
  {
   "cell_type": "code",
   "execution_count": null,
   "metadata": {},
   "outputs": [],
   "source": [
    "#make dataframe from collected information\n",
    "NASA_df = pd.DataFrame(NASA_dict)\n",
    "\n",
    "#see first 10 rows\n",
    "NASA_df.head(10)"
   ]
  },
  {
   "cell_type": "code",
   "execution_count": null,
   "metadata": {},
   "outputs": [],
   "source": [
    "#rename three columns\n",
    "NASA_df.rename(columns={'recclass': 'class',\n",
    " 'reclat': 'longitude',\n",
    " 'reclong': 'latitude'}, inplace=True)"
   ]
  },
  {
   "cell_type": "code",
   "execution_count": null,
   "metadata": {},
   "outputs": [],
   "source": [
    "#check to see which columns have null values\n",
    "NASA_df.count()"
   ]
  },
  {
   "cell_type": "code",
   "execution_count": null,
   "metadata": {},
   "outputs": [],
   "source": [
    "#save dataframe to a csv file\n",
    "NASA_df.to_csv(\"datasets/NASAmeteorite.csv\", index=False)"
   ]
  }
 ],
 "metadata": {
  "kernelspec": {
   "display_name": "Python 3",
   "language": "python",
   "name": "python3"
  },
  "language_info": {
   "codemirror_mode": {
    "name": "ipython",
    "version": 3
   },
   "file_extension": ".py",
   "mimetype": "text/x-python",
   "name": "python",
   "nbconvert_exporter": "python",
   "pygments_lexer": "ipython3",
   "version": "3.7.4"
  }
 },
 "nbformat": 4,
 "nbformat_minor": 2
}
